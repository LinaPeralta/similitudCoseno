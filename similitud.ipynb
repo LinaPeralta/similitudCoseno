{
 "cells": [
  {
   "cell_type": "code",
   "execution_count": 55,
   "id": "e4c12f7b-bc6f-4478-af3c-0093c1a67b4c",
   "metadata": {},
   "outputs": [
    {
     "data": {
      "text/plain": [
       "'1.4.2'"
      ]
     },
     "execution_count": 55,
     "metadata": {},
     "output_type": "execute_result"
    }
   ],
   "source": [
    "import pandas as pd\n",
    "import numpy as np\n",
    "import math\n",
    "pd.__version__"
   ]
  },
  {
   "cell_type": "code",
   "execution_count": 56,
   "id": "2ce6a38b-4093-4ddd-9c2e-1e0b02fe8fe8",
   "metadata": {},
   "outputs": [
    {
     "data": {
      "text/plain": [
       "'1.21.5'"
      ]
     },
     "execution_count": 56,
     "metadata": {},
     "output_type": "execute_result"
    }
   ],
   "source": [
    "np.__version__"
   ]
  },
  {
   "cell_type": "code",
   "execution_count": 57,
   "id": "3bdea5ab-946a-4696-956e-eaa9e45e7b3a",
   "metadata": {},
   "outputs": [],
   "source": [
    "data = pd.read_csv(\"dato.csv\")"
   ]
  },
  {
   "cell_type": "code",
   "execution_count": 58,
   "id": "86c6e682-ff96-431b-b6f3-c3f0b665acb6",
   "metadata": {},
   "outputs": [
    {
     "name": "stdout",
     "output_type": "stream",
     "text": [
      "        Nombre  Lina  José  Claudia  William  Sara  Daniela  Alejandro  María  \\\n",
      "0  Actividad 1   0.8   0.5      0.7      0.2   1.0      0.6        0.2    0.4   \n",
      "1  Actividad 2   0.6   0.9      0.9      0.7   0.5      0.1        0.7    0.7   \n",
      "2    Parcial 1   0.9   1.0      0.6      0.9   0.3      0.6        0.6    0.3   \n",
      "3        Quiz    0.7   0.8      0.4      0.7   0.3      1.0        0.2    0.9   \n",
      "4    Parcial 2   0.6   0.9      0.6      1.0   0.3      0.7        1.0    0.5   \n",
      "\n",
      "   Sergio  Angela  \n",
      "0     0.6     0.8  \n",
      "1     1.0     0.4  \n",
      "2     0.2     0.9  \n",
      "3     0.1     0.5  \n",
      "4     0.6     1.0  \n"
     ]
    }
   ],
   "source": [
    "print (data)"
   ]
  },
  {
   "cell_type": "code",
   "execution_count": 59,
   "id": "a589b4ee-2894-4aec-8b5e-dcc3725e7d73",
   "metadata": {},
   "outputs": [
    {
     "name": "stdout",
     "output_type": "stream",
     "text": [
      "Lina\n",
      "Sergio\n"
     ]
    }
   ],
   "source": [
    "substanceOne =\"Lina\" #@param [\"Lina\", \"José\", \"Claudia\", \"William\", \"Sara\", \"Daniela\", \"Alejandro\", \"María\", \"Sergio\", \"Angela\"]\n",
    "\n",
    "print(substanceOne)\n",
    "\n",
    "substanceTwo =\"Sergio\" #@param [\"Lina\", \"José\", \"Claudia\", \"William\", \"Sara\", \"Daniela\", \"Alejandro\", \"María\", \"Sergio\", \"Angela\"]\n",
    "\n",
    "print(substanceTwo)\n"
   ]
  },
  {
   "cell_type": "code",
   "execution_count": 60,
   "id": "ec1a4431-700c-4490-9107-a284b7289c20",
   "metadata": {},
   "outputs": [
    {
     "name": "stdout",
     "output_type": "stream",
     "text": [
      "0    0.8\n",
      "1    0.6\n",
      "2    0.9\n",
      "3    0.7\n",
      "4    0.6\n",
      "Name: Lina, dtype: float64\n",
      "0    0.6\n",
      "1    1.0\n",
      "2    0.2\n",
      "3    0.1\n",
      "4    0.6\n",
      "Name: Sergio, dtype: float64\n"
     ]
    }
   ],
   "source": [
    "if substanceOne == \"Lina\":\n",
    "    First_value = data.Lina\n",
    "elif substanceOne == \"José\":\n",
    "    First_value = data.José\n",
    "elif substanceOne == \"Claudia\":\n",
    "    First_value = data.Claudia\n",
    "elif substanceOne == \"William\":\n",
    "    First_value = data.William\n",
    "elif substanceOne == \"Sara\":\n",
    "    First_value = data.Sara\n",
    "elif substanceOne == \"Daniela\":\n",
    "    First_value = data.Daniela\n",
    "elif substanceOne == \"Alejandro\":\n",
    "    First_value = data.Alejandro\n",
    "elif substanceOne == \"María\":\n",
    "    First_value = data.María\n",
    "elif substanceOne == \"Sergio\":\n",
    "    First_value = data.Sergio\n",
    "elif substanceOne == \"Angela\":\n",
    "    First_value = data.Angela\n",
    "else:\n",
    "    print(\"Valor no encontrado\")\n",
    "    \n",
    "if substanceTwo == \"Lina\":\n",
    "    Second_value = data.Lina\n",
    "elif substanceTwo == \"José\":\n",
    "    Second_value = data.José\n",
    "elif substanceTwo == \"Claudia\":\n",
    "    Second_value = data.Claudia\n",
    "elif substanceTwo == \"William\":\n",
    "    Second_value = data.William\n",
    "elif substanceTwo == \"Sara\":\n",
    "    Second_value = data.Sara\n",
    "elif substanceTwo == \"Daniela\":\n",
    "    Second_value = data.Daniela\n",
    "elif substanceTwo == \"Alejandro\":\n",
    "    Second_value = data.Alejandro\n",
    "elif substanceTwo == \"María\":\n",
    "    Second_value = data.María\n",
    "elif substanceTwo == \"Sergio\":\n",
    "    Second_value = data.Sergio\n",
    "elif substanceTwo == \"José\":\n",
    "    Second_value = data.José\n",
    "elif substanceTwo == \"Angela\":\n",
    "    Second_value = data.Angela\n",
    "else:\n",
    "    print(\"Valor no encontrado\")\n",
    "\n",
    "print(First_value)\n",
    "print(Second_value)"
   ]
  },
  {
   "cell_type": "code",
   "execution_count": 61,
   "id": "fc48e888-99c8-4b2a-bbed-1791c7885a7d",
   "metadata": {},
   "outputs": [
    {
     "name": "stdout",
     "output_type": "stream",
     "text": [
      "1.69\n",
      "1.630950643030009\n",
      "1.3304134695650072\n",
      "//////////////////////////////////////////////\n",
      "La similitud coseno es:\n",
      "0.7788597360400978\n"
     ]
    }
   ],
   "source": [
    "AB = (First_value[0]*Second_value[0])+(First_value[1]*Second_value[1])+(First_value[2]*Second_value[2])+(First_value[3]*Second_value[3])+(First_value[4]*Second_value[4])\n",
    "\n",
    "print(AB)\n",
    "\n",
    "As = math.sqrt((First_value[0]**2)+(First_value[1]**2)+(First_value[2]**2)+(First_value[3]**2)+(First_value[4]**2))\n",
    "Bs = math.sqrt((Second_value[0]**2)+(Second_value[1]**2)+(Second_value[2]**2)+(Second_value[3]**2)+(Second_value[4]**2))\n",
    "\n",
    "print(As)\n",
    "print(Bs)\n",
    "\n",
    "Cos = AB/(As*Bs)\n",
    "\n",
    "print(\"//////////////////////////////////////////////\")\n",
    "print(\"La similitud coseno es:\")\n",
    "print(Cos)\n",
    "\n"
   ]
  },
  {
   "cell_type": "code",
   "execution_count": null,
   "id": "d6e75301-6bd1-483b-807a-86b6d6cba23d",
   "metadata": {},
   "outputs": [],
   "source": []
  },
  {
   "cell_type": "code",
   "execution_count": null,
   "id": "12b835c5-9767-4ec7-9baf-e22a47f35977",
   "metadata": {},
   "outputs": [],
   "source": []
  },
  {
   "cell_type": "code",
   "execution_count": null,
   "id": "1f3ec070-df90-4ee6-afe5-6f82fe155439",
   "metadata": {},
   "outputs": [],
   "source": []
  },
  {
   "cell_type": "code",
   "execution_count": null,
   "id": "d74f5018-3d80-4f84-829b-d7906dedafca",
   "metadata": {},
   "outputs": [],
   "source": []
  },
  {
   "cell_type": "code",
   "execution_count": null,
   "id": "2e218cd4-9adc-41de-b173-ef1ddb972b9f",
   "metadata": {},
   "outputs": [],
   "source": []
  },
  {
   "cell_type": "code",
   "execution_count": null,
   "id": "18c1afd9-385a-45c9-82cd-72fdd8686c2e",
   "metadata": {},
   "outputs": [],
   "source": []
  }
 ],
 "metadata": {
  "kernelspec": {
   "display_name": "Python 3 (ipykernel)",
   "language": "python",
   "name": "python3"
  },
  "language_info": {
   "codemirror_mode": {
    "name": "ipython",
    "version": 3
   },
   "file_extension": ".py",
   "mimetype": "text/x-python",
   "name": "python",
   "nbconvert_exporter": "python",
   "pygments_lexer": "ipython3",
   "version": "3.9.12"
  }
 },
 "nbformat": 4,
 "nbformat_minor": 5
}
